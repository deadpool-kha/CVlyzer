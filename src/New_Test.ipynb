{
 "cells": [
  {
   "cell_type": "code",
   "execution_count": 1,
   "id": "b25f9b0f-d60c-4193-a001-fcf8f01163c7",
   "metadata": {},
   "outputs": [
    {
     "name": "stdout",
     "output_type": "stream",
     "text": [
      "Collecting python-docx\n",
      "  Downloading python_docx-1.1.2-py3-none-any.whl.metadata (2.0 kB)\n",
      "Requirement already satisfied: lxml>=3.1.0 in /opt/anaconda3/lib/python3.12/site-packages (from python-docx) (5.2.1)\n",
      "Requirement already satisfied: typing-extensions>=4.9.0 in /opt/anaconda3/lib/python3.12/site-packages (from python-docx) (4.11.0)\n",
      "Downloading python_docx-1.1.2-py3-none-any.whl (244 kB)\n",
      "Installing collected packages: python-docx\n",
      "Successfully installed python-docx-1.1.2\n",
      "Collecting PyPDF2\n",
      "  Downloading pypdf2-3.0.1-py3-none-any.whl.metadata (6.8 kB)\n",
      "Downloading pypdf2-3.0.1-py3-none-any.whl (232 kB)\n",
      "Installing collected packages: PyPDF2\n",
      "Successfully installed PyPDF2-3.0.1\n"
     ]
    }
   ],
   "source": [
    "!pip install python-docx  \n",
    "!pip install PyPDF2  \n"
   ]
  },
  {
   "cell_type": "code",
   "execution_count": null,
   "id": "757bdfc0-18e9-4b27-857b-293f84224d67",
   "metadata": {},
   "outputs": [],
   "source": []
  },
  {
   "cell_type": "code",
   "execution_count": 11,
   "id": "cb308df5-0f52-4d3c-b4da-d07f7310c7fc",
   "metadata": {},
   "outputs": [
    {
     "name": "stdout",
     "output_type": "stream",
     "text": [
      "Ollama is installed. Version: ollama version is 0.6.3\n"
     ]
    }
   ],
   "source": [
    "import subprocess\n",
    "\n",
    "def check_ollama():\n",
    "    try:\n",
    "        result = subprocess.run([\"ollama\", \"--version\"], capture_output=True, text=True, check=True)\n",
    "        print(\"Ollama is installed. Version:\", result.stdout.strip())\n",
    "    except FileNotFoundError:\n",
    "        print(\"Ollama is NOT installed.\")\n",
    "    except subprocess.CalledProcessError as e:\n",
    "        print(\"Error checking Ollama:\", e)\n",
    "\n",
    "check_ollama()\n"
   ]
  },
  {
   "cell_type": "code",
   "execution_count": 22,
   "id": "c235a39a-3e04-4756-a04c-d405f1e92e1e",
   "metadata": {},
   "outputs": [
    {
     "name": "stdout",
     "output_type": "stream",
     "text": [
      "✅ Ollama is running.\n",
      "Similarity Score: 85%\n",
      "\n",
      "Key Matches:\n",
      "\n",
      "* Both the resume and job description mention IT support, network administration, system maintenance, troubleshooting, and technical assistance.\n",
      "* The resume highlights experience with Active Directory, Azure, anti-virus software, backup systems, and firewalls, which are all relevant to the job description's requirements for administering network and data security.\n",
      "* The resume also emphasizes scripting skills using languages like PowerSheel, Visual Basic Script, and batch files, which aligns with the job description's request for experience in maintaining and installing IT systems.\n",
      "\n",
      "Areas to Improve:\n",
      "\n",
      "1. **Job-specific keywords**: While the resume mentions some relevant technical terms, it could include more specific keywords from the job description, such as \"directory management,\" \"group policy administration,\" \"firewall configuration,\" or \"data backup procedures.\"\n",
      "2. **Quantifiable achievements**: The resume focuses on listing job responsibilities rather than providing specific accomplishments or metrics. Adding quantifiable achievements, like \"reduced system downtime by 30% through proactive maintenance\" or \"successfully implemented a new backup system, resulting in 50% increased data recovery efficiency,\" can help demonstrate the candidate's value.\n",
      "3. **Emphasizing soft skills**: While the resume does mention excellent written and verbal communication skills, it could further highlight other essential soft skills like teamwork, problem-solving, or time management. This will help show that the candidate is not only technically competent but also a strong team player.\n",
      "4. **Education and certifications**: The resume includes a certification in CompTIA Network+, which aligns with the job description's requirement for industry certification. However, it could be further emphasized by including more relevant certifications or highlighting specific courses taken during education that align with the job requirements.\n",
      "\n",
      "To improve the resume, consider adding more specific details about your experience and skills, emphasizing soft skills, and highlighting relevant certifications and education.\n"
     ]
    }
   ],
   "source": [
    "import requests\n",
    "from docx import Document\n",
    "import PyPDF2\n",
    "import subprocess\n",
    "\n",
    "# Ollama API endpoint (Mac default)\n",
    "OLLAMA_URL = \"http://localhost:11434/v1/chat/completions\"\n",
    "\n",
    "# Function to check if Ollama is running\n",
    "def check_ollama_running():\n",
    "    try:\n",
    "        response = requests.get(\"http://localhost:11434\")\n",
    "        if response.status_code == 200:\n",
    "            print(\"✅ Ollama is running.\")\n",
    "            return True\n",
    "    except requests.ConnectionError:\n",
    "        print(\"❌ Ollama is NOT running. Start it by running 'ollama serve' in a terminal.\")\n",
    "        return False\n",
    "\n",
    "# Function to send a prompt to Ollama\n",
    "def ask_ollama(prompt):\n",
    "    headers = {\"Content-Type\": \"application/json\"}\n",
    "    data = {\n",
    "        \"model\": \"llama3\",  # Updated to LLaMA 3\n",
    "        \"messages\": [{\"role\": \"user\", \"content\": prompt}],\n",
    "        \"temperature\": 0.7  # Adjust for creativity\n",
    "    }\n",
    "\n",
    "    # Send request to Ollama\n",
    "    response = requests.post(OLLAMA_URL, headers=headers, json=data)\n",
    "    \n",
    "    if response.status_code == 200:\n",
    "        return response.json()['choices'][0]['message']['content']\n",
    "    else:\n",
    "        print(f\"Error: {response.status_code}, {response.text}\")\n",
    "        return None\n",
    "\n",
    "# Function to extract text from Word document (.docx)\n",
    "def extract_text_from_docx(file_path):\n",
    "    try:\n",
    "        doc = Document(file_path)\n",
    "        return '\\n'.join([para.text for para in doc.paragraphs])\n",
    "    except Exception as e:\n",
    "        print(f\"❌ Error reading DOCX file: {e}\")\n",
    "        return None\n",
    "\n",
    "# Function to extract text from PDF document\n",
    "def extract_text_from_pdf(file_path):\n",
    "    try:\n",
    "        with open(file_path, 'rb') as file:\n",
    "            reader = PyPDF2.PdfReader(file)\n",
    "            return '\\n'.join([page.extract_text() for page in reader.pages if page.extract_text()])\n",
    "    except Exception as e:\n",
    "        print(f\"❌ Error reading PDF file: {e}\")\n",
    "        return None\n",
    "\n",
    "# Function to analyze the CV with the job description using Ollama\n",
    "def analyze_cv_with_job_description(cv_file_path, job_description_file_path):\n",
    "    # Check if Ollama is running\n",
    "    if not check_ollama_running():\n",
    "        return \"Ollama is not running. Please start it first.\"\n",
    "\n",
    "    # Extract text from the resume and job description files\n",
    "    if cv_file_path.endswith(\".docx\"):\n",
    "        cv_text = extract_text_from_docx(cv_file_path)\n",
    "    elif cv_file_path.endswith(\".pdf\"):\n",
    "        cv_text = extract_text_from_pdf(cv_file_path)\n",
    "    else:\n",
    "        return \"❌ Unsupported CV file format\"\n",
    "\n",
    "    if job_description_file_path.endswith(\".docx\"):\n",
    "        job_description_text = extract_text_from_docx(job_description_file_path)\n",
    "    elif job_description_file_path.endswith(\".pdf\"):\n",
    "        job_description_text = extract_text_from_pdf(job_description_file_path)\n",
    "    else:\n",
    "        return \"❌ Unsupported Job Description file format\"\n",
    "\n",
    "    # If extraction failed, return an error\n",
    "    if not cv_text or not job_description_text:\n",
    "        return \"❌ Failed to extract text from one or both files.\"\n",
    "\n",
    "    # Construct the prompt for Ollama\n",
    "    prompt = f\"\"\"\n",
    "    Compare the following resume with the job description:\n",
    "    Resume: {cv_text}\n",
    "    \n",
    "    Job Description: {job_description_text}\n",
    "\n",
    "    Provide a similarity score (0-100), highlight key matches, and suggest areas to improve in the resume.\n",
    "    \"\"\"\n",
    "\n",
    "    # Get the analysis from Ollama\n",
    "    result = ask_ollama(prompt)\n",
    "    return result if result else \"❌ Error analyzing resume.\"\n",
    "\n",
    "# Example usage (Replace with actual file paths)\n",
    "cv_file_path = \"resume.docx\"  # Replace with actual file path\n",
    "job_description_file_path = \"job_description.docx\"  # Replace with actual file path\n",
    "\n",
    "# Run the analysis\n",
    "result = analyze_cv_with_job_description(cv_file_path, job_description_file_path)\n",
    "print(result)\n"
   ]
  },
  {
   "cell_type": "code",
   "execution_count": 19,
   "id": "32966e15-8d51-4d87-bd21-bacde5ac80e9",
   "metadata": {},
   "outputs": [
    {
     "name": "stdout",
     "output_type": "stream",
     "text": [
      "Error: 404, {\"error\":{\"message\":\"model \\\"llama2\\\" not found, try pulling it first\",\"type\":\"api_error\",\"param\":null,\"code\":null}}\n",
      "\n",
      "None\n"
     ]
    }
   ],
   "source": [
    "#This one is by OLLAMA\n",
    "import requests\n",
    "from docx import Document\n",
    "import PyPDF2\n",
    "\n",
    "# Ollama API endpoint (adjust if needed)\n",
    "OLLAMA_URL = \"http://localhost:11434/v1/chat/completions\"\n",
    "\n",
    "# Function to send a prompt to Ollama\n",
    "def ask_ollama(prompt):\n",
    "    headers = {\n",
    "        \"Content-Type\": \"application/json\"\n",
    "    }\n",
    "\n",
    "    data = {\n",
    "        \"model\": \"llama2\",  # Use llama2 or the model you're working with\n",
    "        \"messages\": [{\"role\": \"user\", \"content\": prompt}],\n",
    "        \"temperature\": 0.7  # Adjust temperature for creativity if needed\n",
    "    }\n",
    "\n",
    "    # Send the request\n",
    "    response = requests.post(OLLAMA_URL, headers=headers, json=data)\n",
    "    \n",
    "    # Check if the response is successful\n",
    "    if response.status_code == 200:\n",
    "        return response.json()['choices'][0]['message']['content']\n",
    "    else:\n",
    "        print(f\"Error: {response.status_code}, {response.text}\")\n",
    "        return None\n",
    "\n",
    "# Function to extract text from Word document (.docx)\n",
    "def extract_text_from_docx(file_path):\n",
    "    doc = Document(file_path)\n",
    "    full_text = []\n",
    "    for para in doc.paragraphs:\n",
    "        full_text.append(para.text)\n",
    "    return '\\n'.join(full_text)\n",
    "\n",
    "# Function to extract text from PDF document\n",
    "def extract_text_from_pdf(file_path):\n",
    "    with open(file_path, 'rb') as file:\n",
    "        reader = PyPDF2.PdfReader(file)\n",
    "        text = ''\n",
    "        for page in reader.pages:\n",
    "            text += page.extract_text()\n",
    "        return text\n",
    "\n",
    "# Function to analyze the CV with the job description using Ollama\n",
    "def analyze_cv_with_job_description(cv_file_path, job_description_file_path):\n",
    "    # Extract text from the resume and job description files\n",
    "    if cv_file_path.endswith(\".docx\"):\n",
    "        cv_text = extract_text_from_docx(cv_file_path)\n",
    "    elif cv_file_path.endswith(\".pdf\"):\n",
    "        cv_text = extract_text_from_pdf(cv_file_path)\n",
    "    else:\n",
    "        return \"Unsupported CV file format\"\n",
    "\n",
    "    if job_description_file_path.endswith(\".docx\"):\n",
    "        job_description_text = extract_text_from_docx(job_description_file_path)\n",
    "    elif job_description_file_path.endswith(\".pdf\"):\n",
    "        job_description_text = extract_text_from_pdf(job_description_file_path)\n",
    "    else:\n",
    "        return \"Unsupported Job Description file format\"\n",
    "\n",
    "    # Construct the prompt for Ollama\n",
    "    prompt = f\"\"\"\n",
    "    Compare the following resume with the job description:\n",
    "    Resume: {cv_text}\n",
    "    Job Description: {job_description_text}\n",
    "    Provide a similarity score, and suggest areas to improve in the resume to make it better aligned with the job description.\n",
    "    \"\"\"\n",
    "\n",
    "    # Get the analysis from Ollama\n",
    "    result = ask_ollama(prompt)\n",
    "    return result\n",
    "\n",
    "# Example usage\n",
    "cv_file_path = \"resume.docx\"  # Replace with your actual file path\n",
    "job_description_file_path = \"job_description.docx\"  # Replace with your actual file path\n",
    "\n",
    "# Get the analysis\n",
    "result = analyze_cv_with_job_description(cv_file_path, job_description_file_path)\n",
    "print(result)\n"
   ]
  },
  {
   "cell_type": "code",
   "execution_count": 17,
   "id": "cb3fa1cf-86a8-4a69-bd1b-d6dbf9919f18",
   "metadata": {},
   "outputs": [
    {
     "name": "stderr",
     "output_type": "stream",
     "text": [
      "\u001b[?2026h\u001b[?25l\u001b[1Gpulling manifest ⠋ \u001b[K\u001b[?25h\u001b[?2026l\u001b[?2026h\u001b[?25l\u001b[1Gpulling manifest ⠙ \u001b[K\u001b[?25h\u001b[?2026l\u001b[?2026h\u001b[?25l\u001b[1Gpulling manifest ⠹ \u001b[K\u001b[?25h\u001b[?2026l\u001b[?2026h\u001b[?25l\u001b[1Gpulling manifest ⠸ \u001b[K\u001b[?25h\u001b[?2026l\u001b[?2026h\u001b[?25l\u001b[1Gpulling manifest \u001b[K\n",
      "pulling 6a0746a1ec1a... 100% ▕████████████████▏ 4.7 GB                         \u001b[K\n",
      "pulling 4fa551d4f938... 100% ▕████████████████▏  12 KB                         \u001b[K\n",
      "pulling 8ab4849b038c... 100% ▕████████████████▏  254 B                         \u001b[K\n",
      "pulling 577073ffcc6c... 100% ▕████████████████▏  110 B                         \u001b[K\n",
      "pulling 3f8eb4da87fa... 100% ▕████████████████▏  485 B                         \u001b[K\n",
      "verifying sha256 digest \u001b[K\n",
      "writing manifest \u001b[K\n",
      "success \u001b[K\u001b[?25h\u001b[?2026l\n"
     ]
    },
    {
     "data": {
      "text/plain": [
       "CompletedProcess(args=['ollama', 'pull', 'llama3'], returncode=0)"
      ]
     },
     "execution_count": 17,
     "metadata": {},
     "output_type": "execute_result"
    }
   ],
   "source": [
    "import subprocess\n",
    "\n",
    "# Pull the llama3 model\n",
    "subprocess.run([\"ollama\", \"pull\", \"llama3\"])\n"
   ]
  },
  {
   "cell_type": "markdown",
   "id": "fe7312f6-2bc1-4243-bd12-d36fad158dcd",
   "metadata": {},
   "source": [
    "import requests\n",
    "from docx import Document\n",
    "import PyPDF2\n",
    "import subprocess\n",
    "\n",
    "# Ollama API endpoint (Mac default)\n",
    "OLLAMA_URL = \"http://localhost:11434/v1/chat/completions\"\n",
    "\n",
    "# Function to check if Ollama is running\n",
    "def check_ollama_running():\n",
    "    try:\n",
    "        response = requests.get(\"http://localhost:11434\")\n",
    "        if response.status_code == 200:\n",
    "            print(\"✅ Ollama is running.\")\n",
    "            return True\n",
    "    except requests.ConnectionError:\n",
    "        print(\"❌ Ollama is NOT running. Start it by running 'ollama serve' in a terminal.\")\n",
    "        return False\n",
    "\n",
    "# Function to send a prompt to Ollama\n",
    "def ask_ollama(prompt):\n",
    "    headers = {\"Content-Type\": \"application/json\"}\n",
    "    data = {\n",
    "        \"model\": \"llama3\",  # Updated to LLaMA 3\n",
    "        \"messages\": [{\"role\": \"user\", \"content\": prompt}],\n",
    "        \"temperature\": 0.7  # Adjust for creativity\n",
    "    }\n",
    "\n",
    "    # Send request to Ollama\n",
    "    response = requests.post(OLLAMA_URL, headers=headers, json=data)\n",
    "    \n",
    "    if response.status_code == 200:\n",
    "        return response.json()['choices'][0]['message']['content']\n",
    "    else:\n",
    "        print(f\"Error: {response.status_code}, {response.text}\")\n",
    "        return None\n",
    "\n",
    "# Function to extract text from Word document (.docx)\n",
    "def extract_text_from_docx(file_path):\n",
    "    try:\n",
    "        doc = Document(file_path)\n",
    "        return '\\n'.join([para.text for para in doc.paragraphs])\n",
    "    except Exception as e:\n",
    "        print(f\"❌ Error reading DOCX file: {e}\")\n",
    "        return None\n",
    "\n",
    "# Function to extract text from PDF document\n",
    "def extract_text_from_pdf(file_path):\n",
    "    try:\n",
    "        with open(file_path, 'rb') as file:\n",
    "            reader = PyPDF2.PdfReader(file)\n",
    "            return '\\n'.join([page.extract_text() for page in reader.pages if page.extract_text()])\n",
    "    except Exception as e:\n",
    "        print(f\"❌ Error reading PDF file: {e}\")\n",
    "        return None\n",
    "\n",
    "# Function to analyze the CV with the job description using Ollama\n",
    "def analyze_cv_with_job_description(cv_file_path, job_description_file_path):\n",
    "    # Check if Ollama is running\n",
    "    if not check_ollama_running():\n",
    "        return \"Ollama is not running. Please start it first.\"\n",
    "\n",
    "    # Extract text from the resume and job description files\n",
    "    if cv_file_path.endswith(\".docx\"):\n",
    "        cv_text = extract_text_from_docx(cv_file_path)\n",
    "    elif cv_file_path.endswith(\".pdf\"):\n",
    "        cv_text = extract_text_from_pdf(cv_file_path)\n",
    "    else:\n",
    "        return \"❌ Unsupported CV file format\"\n",
    "\n",
    "    if job_description_file_path.endswith(\".docx\"):\n",
    "        job_description_text = extract_text_from_docx(job_description_file_path)\n",
    "    elif job_description_file_path.endswith(\".pdf\"):\n",
    "        job_description_text = extract_text_from_pdf(job_description_file_path)\n",
    "    else:\n",
    "        return \"❌ Unsupported Job Description file format\"\n",
    "\n",
    "    # If extraction failed, return an error\n",
    "    if not cv_text or not job_description_text:\n",
    "        return \"❌ Failed to extract text from one or both files.\"\n",
    "\n",
    "    # Construct the prompt for Ollama\n",
    "    prompt = f\"\"\"\n",
    "    Compare the following resume with the job description:\n",
    "    Resume: {cv_text}\n",
    "    \n",
    "    Job Description: {job_description_text}\n",
    "\n",
    "    Provide a similarity score (0-100), highlight key matches, and suggest areas to improve in the resume.\n",
    "    \"\"\"\n",
    "\n",
    "    # Get the analysis from Ollama\n",
    "    result = ask_ollama(prompt)\n",
    "    return result if result else \"❌ Error analyzing resume.\"\n",
    "\n",
    "# Example usage (Replace with actual file paths)\n",
    "cv_file_path = \"resume.docx\"  # Replace with actual file path\n",
    "job_description_file_path = \"job_description.docx\"  # Replace with actual file path\n",
    "\n",
    "# Run the analysis\n",
    "result = analyze_cv_with_job_description(cv_file_path, job_description_file_path)\n",
    "print(result)\n"
   ]
  },
  {
   "cell_type": "code",
   "execution_count": null,
   "id": "dd1c3780-44ca-43e3-97cb-dc2f4f5815ca",
   "metadata": {},
   "outputs": [],
   "source": []
  },
  {
   "cell_type": "code",
   "execution_count": 5,
   "id": "d9c65852-ee2f-4dc3-b4a7-60c8a0f0240d",
   "metadata": {},
   "outputs": [
    {
     "name": "stdout",
     "output_type": "stream",
     "text": [
      "Requirement already satisfied: python-docx in /opt/anaconda3/lib/python3.12/site-packages (1.1.2)\n",
      "Requirement already satisfied: lxml>=3.1.0 in /opt/anaconda3/lib/python3.12/site-packages (from python-docx) (5.2.1)\n",
      "Requirement already satisfied: typing-extensions>=4.9.0 in /opt/anaconda3/lib/python3.12/site-packages (from python-docx) (4.11.0)\n",
      "Requirement already satisfied: PyPDF2 in /opt/anaconda3/lib/python3.12/site-packages (3.0.1)\n",
      "Collecting openai\n",
      "  Downloading openai-1.69.0-py3-none-any.whl.metadata (25 kB)\n",
      "Requirement already satisfied: anyio<5,>=3.5.0 in /opt/anaconda3/lib/python3.12/site-packages (from openai) (4.2.0)\n",
      "Requirement already satisfied: distro<2,>=1.7.0 in /opt/anaconda3/lib/python3.12/site-packages (from openai) (1.9.0)\n",
      "Requirement already satisfied: httpx<1,>=0.23.0 in /opt/anaconda3/lib/python3.12/site-packages (from openai) (0.27.0)\n",
      "Collecting jiter<1,>=0.4.0 (from openai)\n",
      "  Downloading jiter-0.9.0-cp312-cp312-macosx_11_0_arm64.whl.metadata (5.2 kB)\n",
      "Requirement already satisfied: pydantic<3,>=1.9.0 in /opt/anaconda3/lib/python3.12/site-packages (from openai) (2.8.2)\n",
      "Requirement already satisfied: sniffio in /opt/anaconda3/lib/python3.12/site-packages (from openai) (1.3.0)\n",
      "Requirement already satisfied: tqdm>4 in /opt/anaconda3/lib/python3.12/site-packages (from openai) (4.66.5)\n",
      "Requirement already satisfied: typing-extensions<5,>=4.11 in /opt/anaconda3/lib/python3.12/site-packages (from openai) (4.11.0)\n",
      "Requirement already satisfied: idna>=2.8 in /opt/anaconda3/lib/python3.12/site-packages (from anyio<5,>=3.5.0->openai) (3.7)\n",
      "Requirement already satisfied: certifi in /opt/anaconda3/lib/python3.12/site-packages (from httpx<1,>=0.23.0->openai) (2025.1.31)\n",
      "Requirement already satisfied: httpcore==1.* in /opt/anaconda3/lib/python3.12/site-packages (from httpx<1,>=0.23.0->openai) (1.0.2)\n",
      "Requirement already satisfied: h11<0.15,>=0.13 in /opt/anaconda3/lib/python3.12/site-packages (from httpcore==1.*->httpx<1,>=0.23.0->openai) (0.14.0)\n",
      "Requirement already satisfied: annotated-types>=0.4.0 in /opt/anaconda3/lib/python3.12/site-packages (from pydantic<3,>=1.9.0->openai) (0.6.0)\n",
      "Requirement already satisfied: pydantic-core==2.20.1 in /opt/anaconda3/lib/python3.12/site-packages (from pydantic<3,>=1.9.0->openai) (2.20.1)\n",
      "Downloading openai-1.69.0-py3-none-any.whl (599 kB)\n",
      "\u001b[2K   \u001b[90m━━━━━━━━━━━━━━━━━━━━━━━━━━━━━━━━━━━━━━━━\u001b[0m \u001b[32m599.1/599.1 kB\u001b[0m \u001b[31m4.1 MB/s\u001b[0m eta \u001b[36m0:00:00\u001b[0m\n",
      "\u001b[?25hDownloading jiter-0.9.0-cp312-cp312-macosx_11_0_arm64.whl (319 kB)\n",
      "Installing collected packages: jiter, openai\n",
      "Successfully installed jiter-0.9.0 openai-1.69.0\n"
     ]
    }
   ],
   "source": [
    "#this one is from openai\n",
    "!pip install python-docx  # For Word documents\n",
    "!pip install PyPDF2  # For PDFs (Alternatively use pdfplumber)\n",
    "!pip install openai  # For OpenAI API\n"
   ]
  },
  {
   "cell_type": "code",
   "execution_count": null,
   "id": "316948a5-9866-4711-b518-3df1c0497056",
   "metadata": {},
   "outputs": [],
   "source": []
  },
  {
   "cell_type": "code",
   "execution_count": 9,
   "id": "89f0c35d-6577-4be2-a9c0-79450b1a885b",
   "metadata": {},
   "outputs": [
    {
     "name": "stdout",
     "output_type": "stream",
     "text": [
      "On branch main\n",
      "Your branch is ahead of 'origin/main' by 1 commit.\n",
      "  (use \"git push\" to publish your local commits)\n",
      "\n",
      "Changes not staged for commit:\n",
      "  (use \"git add <file>...\" to update what will be committed)\n",
      "  (use \"git restore <file>...\" to discard changes in working directory)\n",
      "\tmodified:   .ipynb_checkpoints/New_Test-checkpoint.ipynb\n",
      "\tmodified:   New_Test.ipynb\n",
      "\n",
      "no changes added to commit (use \"git add\" and/or \"git commit -a\")\n"
     ]
    }
   ],
   "source": [
    "!git status\n"
   ]
  },
  {
   "cell_type": "code",
   "execution_count": 11,
   "id": "1e66c4dd-a7df-47dc-a2be-d553fbf06cc3",
   "metadata": {},
   "outputs": [
    {
     "name": "stderr",
     "output_type": "stream",
     "text": [
      "warning: in the working copy of 'src/.ipynb_checkpoints/New_Test-checkpoint.ipynb', LF will be replaced by CRLF the next time Git touches it\n",
      "warning: in the working copy of 'src/New_Test.ipynb', LF will be replaced by CRLF the next time Git touches it\n"
     ]
    }
   ],
   "source": [
    "!git add .\n"
   ]
  },
  {
   "cell_type": "code",
   "execution_count": 13,
   "id": "a55e6407-c398-4e80-b33d-ba2a66c14121",
   "metadata": {},
   "outputs": [
    {
     "name": "stdout",
     "output_type": "stream",
     "text": [
      "[main 98e31a0] made new changes here with test\n",
      " 2 files changed, 130 insertions(+), 24 deletions(-)\n"
     ]
    }
   ],
   "source": [
    "!git commit -m \"made new changes here with test\"\n"
   ]
  },
  {
   "cell_type": "code",
   "execution_count": 17,
   "id": "03570cbd-2c82-4b23-8b02-3d4eb4dd37c0",
   "metadata": {},
   "outputs": [
    {
     "name": "stderr",
     "output_type": "stream",
     "text": [
      "error: src refspec # does not match any\n",
      "error: src refspec Use does not match any\n",
      "error: src refspec to does not match any\n",
      "error: src refspec overwrite does not match any\n",
      "error: src refspec the does not match any\n",
      "error: src refspec previous does not match any\n",
      "error: src refspec commit does not match any\n",
      "error: failed to push some refs to 'https://github.com/deadpool-kha/Python-Assignment'\n"
     ]
    }
   ],
   "source": [
    "!git push origin main --force  # Use --force to overwrite the previous commit\n"
   ]
  },
  {
   "cell_type": "code",
   "execution_count": null,
   "id": "841978d4-debb-4946-9745-f126d9a50faf",
   "metadata": {},
   "outputs": [
    {
     "name": "stderr",
     "output_type": "stream",
     "text": [
      "2025-03-30 21:27:35.562 python[18928:1714537] +[IMKClient subclass]: chose IMKClient_Modern\n",
      "2025-03-30 21:27:35.562 python[18928:1714537] +[IMKInputSession subclass]: chose IMKInputSession_Modern\n",
      "2025-03-30 21:28:25.057 python[18928:1714537] The class 'NSOpenPanel' overrides the method identifier.  This method is implemented by class 'NSWindow'\n"
     ]
    },
    {
     "name": "stdout",
     "output_type": "stream",
     "text": [
      "✅ Ollama is running.\n"
     ]
    }
   ],
   "source": [
    "import tkinter as tk\n",
    "from tkinter import filedialog, messagebox\n",
    "import requests\n",
    "from docx import Document\n",
    "import PyPDF2\n",
    "\n",
    "# Ollama API endpoint (Mac default)\n",
    "OLLAMA_URL = \"http://localhost:11434/v1/chat/completions\"\n",
    "\n",
    "# Function to check if Ollama is running\n",
    "def check_ollama_running():\n",
    "    try:\n",
    "        response = requests.get(\"http://localhost:11434\")\n",
    "        if response.status_code == 200:\n",
    "            print(\"✅ Ollama is running.\")\n",
    "            return True\n",
    "    except requests.ConnectionError:\n",
    "        print(\"❌ Ollama is NOT running. Start it by running 'ollama serve' in a terminal.\")\n",
    "        return False\n",
    "\n",
    "# Function to send a prompt to Ollama\n",
    "def ask_ollama(prompt):\n",
    "    headers = {\"Content-Type\": \"application/json\"}\n",
    "    data = {\n",
    "        \"model\": \"llama3\",  # Updated to LLaMA 3\n",
    "        \"messages\": [{\"role\": \"user\", \"content\": prompt}],\n",
    "        \"temperature\": 0.7  # Adjust for creativity\n",
    "    }\n",
    "\n",
    "    # Send request to Ollama\n",
    "    response = requests.post(OLLAMA_URL, headers=headers, json=data)\n",
    "    \n",
    "    if response.status_code == 200:\n",
    "        return response.json()['choices'][0]['message']['content']\n",
    "    else:\n",
    "        print(f\"Error: {response.status_code}, {response.text}\")\n",
    "        return None\n",
    "\n",
    "# Function to extract text from Word document (.docx)\n",
    "def extract_text_from_docx(file_path):\n",
    "    try:\n",
    "        doc = Document(file_path)\n",
    "        return '\\n'.join([para.text for para in doc.paragraphs])\n",
    "    except Exception as e:\n",
    "        print(f\"❌ Error reading DOCX file: {e}\")\n",
    "        return None\n",
    "\n",
    "# Function to extract text from PDF document\n",
    "def extract_text_from_pdf(file_path):\n",
    "    try:\n",
    "        with open(file_path, 'rb') as file:\n",
    "            reader = PyPDF2.PdfReader(file)\n",
    "            return '\\n'.join([page.extract_text() for page in reader.pages if page.extract_text()])\n",
    "    except Exception as e:\n",
    "        print(f\"❌ Error reading PDF file: {e}\")\n",
    "        return None\n",
    "\n",
    "# Function to analyze the CV with the job description using Ollama\n",
    "def analyze_cv_with_job_description(cv_file_path, job_description_file_path):\n",
    "    # Check if Ollama is running\n",
    "    if not check_ollama_running():\n",
    "        return \"Ollama is not running. Please start it first.\"\n",
    "\n",
    "    # Extract text from the resume and job description files\n",
    "    if cv_file_path.endswith(\".docx\"):\n",
    "        cv_text = extract_text_from_docx(cv_file_path)\n",
    "    elif cv_file_path.endswith(\".pdf\"):\n",
    "        cv_text = extract_text_from_pdf(cv_file_path)\n",
    "    else:\n",
    "        return \"❌ Unsupported CV file format\"\n",
    "\n",
    "    if job_description_file_path.endswith(\".docx\"):\n",
    "        job_description_text = extract_text_from_docx(job_description_file_path)\n",
    "    elif job_description_file_path.endswith(\".pdf\"):\n",
    "        job_description_text = extract_text_from_pdf(job_description_file_path)\n",
    "    else:\n",
    "        return \"❌ Unsupported Job Description file format\"\n",
    "\n",
    "    # If extraction failed, return an error\n",
    "    if not cv_text or not job_description_text:\n",
    "        return \"❌ Failed to extract text from one or both files.\"\n",
    "\n",
    "    # Construct the prompt for Ollama\n",
    "    prompt = f\"\"\"\n",
    "    Compare the following resume with the job description:\n",
    "    Resume: {cv_text}\n",
    "    \n",
    "    Job Description: {job_description_text}\n",
    "\n",
    "    Provide a similarity score (0-100), highlight key matches, and suggest areas to improve in the resume.\n",
    "    \"\"\"\n",
    "\n",
    "    # Get the analysis from Ollama\n",
    "    result = ask_ollama(prompt)\n",
    "    return result if result else \"❌ Error analyzing resume.\"\n",
    "\n",
    "# GUI for file selection and result display\n",
    "def browse_cv():\n",
    "    cv_file_path.set(filedialog.askopenfilename(title=\"Select CV file\", filetypes=[(\"Word Files\", \"*.docx\"), (\"PDF Files\", \"*.pdf\")]))\n",
    "    \n",
    "def browse_job_description():\n",
    "    job_description_file_path.set(filedialog.askopenfilename(title=\"Select Job Description file\", filetypes=[(\"Word Files\", \"*.docx\"), (\"PDF Files\", \"*.pdf\")]))\n",
    "\n",
    "def analyze():\n",
    "    cv_path = cv_file_path.get()\n",
    "    job_desc_path = job_description_file_path.get()\n",
    "    \n",
    "    if not cv_path or not job_desc_path:\n",
    "        messagebox.showerror(\"Error\", \"Please select both CV and Job Description files.\")\n",
    "        return\n",
    "    \n",
    "    result = analyze_cv_with_job_description(cv_path, job_desc_path)\n",
    "    \n",
    "    result_text.delete(1.0, tk.END)\n",
    "    result_text.insert(tk.END, result)\n",
    "\n",
    "# Create the main window\n",
    "root = tk.Tk()\n",
    "root.title(\"Resume & Job Description Analyzer\")\n",
    "\n",
    "# Create input fields and buttons\n",
    "cv_file_path = tk.StringVar()\n",
    "job_description_file_path = tk.StringVar()\n",
    "\n",
    "# CV input section\n",
    "tk.Label(root, text=\"Select CV File\").pack(pady=5)\n",
    "cv_button = tk.Button(root, text=\"Browse CV\", command=browse_cv)\n",
    "cv_button.pack(pady=5)\n",
    "\n",
    "# Job Description input section\n",
    "tk.Label(root, text=\"Select Job Description File\").pack(pady=5)\n",
    "job_desc_button = tk.Button(root, text=\"Browse Job Description\", command=browse_job_description)\n",
    "job_desc_button.pack(pady=5)\n",
    "\n",
    "# Analyze button\n",
    "analyze_button = tk.Button(root, text=\"Analyze\", command=analyze)\n",
    "analyze_button.pack(pady=10)\n",
    "\n",
    "# Output section\n",
    "tk.Label(root, text=\"Analysis Result:\").pack(pady=5)\n",
    "result_text = tk.Text(root, height=15, width=100)\n",
    "result_text.pack(pady=10)\n",
    "\n",
    "# Start the Tkinter main loop\n",
    "root.mainloop()\n"
   ]
  },
  {
   "cell_type": "code",
   "execution_count": 28,
   "id": "21ee7a26-4035-4cff-934a-0cd3daccdfc1",
   "metadata": {},
   "outputs": [
    {
     "name": "stderr",
     "output_type": "stream",
     "text": [
      "warning: in the working copy of 'src/.ipynb_checkpoints/New_Test-checkpoint.ipynb', LF will be replaced by CRLF the next time Git touches it\n",
      "warning: in the working copy of 'src/New_Test.ipynb', LF will be replaced by CRLF the next time Git touches it\n"
     ]
    },
    {
     "name": "stdout",
     "output_type": "stream",
     "text": [
      "[main 5f45103] Fixed secret leak\n",
      " 2 files changed, 266 insertions(+), 252 deletions(-)\n"
     ]
    }
   ],
   "source": [
    "!git add .  \n",
    "!git commit -m \"Fixed secret leak\"\n"
   ]
  },
  {
   "cell_type": "code",
   "execution_count": 30,
   "id": "b7673ae3-56ec-4dca-b715-4e340a2b7d3e",
   "metadata": {},
   "outputs": [
    {
     "name": "stdout",
     "output_type": "stream",
     "text": [
      "[main 0b4e42e] Fixed secret leak\n",
      " Date: Sun Mar 30 21:52:11 2025 -0400\n",
      " 2 files changed, 266 insertions(+), 252 deletions(-)\n"
     ]
    }
   ],
   "source": [
    "!git commit --amend --no-edit\n"
   ]
  },
  {
   "cell_type": "code",
   "execution_count": 32,
   "id": "e8de7bdc-178a-4117-aff4-abbd7f4fe10e",
   "metadata": {},
   "outputs": [
    {
     "name": "stderr",
     "output_type": "stream",
     "text": [
      "remote: error: GH013: Repository rule violations found for refs/heads/main.        \n",
      "remote: \n",
      "remote: - GITHUB PUSH PROTECTION        \n",
      "remote:   â€”â€”â€”â€”â€”â€”â€”â€”â€”â€”â€”â€”â€”â€”â€”â€”â€”â€”â€”â€”â€”â€”â€”â€”â€”â€”â€”â€”â€”â€”â€”â€”â€”â€”â€”â€”â€”â€”â€”â€”â€”        \n",
      "remote:     Resolve the following violations before pushing again        \n",
      "remote: \n",
      "remote:     - Push cannot contain secrets        \n",
      "remote: \n",
      "remote:             \n",
      "remote:      (?) Learn how to resolve a blocked push        \n",
      "remote:      https://docs.github.com/code-security/secret-scanning/working-with-secret-scanning-and-push-protection/working-with-push-protection-from-the-command-line#resolving-a-blocked-push        \n",
      "remote:             \n",
      "remote:             \n",
      "remote:       â€”â€” OpenAI API Key â€”â€”â€”â€”â€”â€”â€”â€”â€”â€”â€”â€”â€”â€”â€”â€”â€”â€”â€”â€”â€”â€”â€”â€”â€”â€”â€”â€”â€”â€”â€”â€”â€”â€”â€”â€”        \n",
      "remote:        locations:        \n",
      "remote:          - commit: 4b8c1c7ea6f917af5b8cd305b7bc862c5323cbab        \n",
      "remote:            path: src/New_Test.ipynb:536        \n",
      "remote:             \n",
      "remote:        (?) To push, remove secret from commit(s) or follow this URL to allow the secret.        \n",
      "remote:        https://github.com/deadpool-kha/Python-Assignment/security/secret-scanning/unblock-secret/2v3tKY3Ph5T1cbYwD3zSqfPa0hO        \n",
      "remote:             \n",
      "remote: \n",
      "remote: \n",
      "To https://github.com/deadpool-kha/Python-Assignment\n",
      " ! [remote rejected] main -> main (push declined due to repository rule violations)\n",
      "error: failed to push some refs to 'https://github.com/deadpool-kha/Python-Assignment'\n"
     ]
    }
   ],
   "source": [
    "!git push origin main --force\n"
   ]
  },
  {
   "cell_type": "code",
   "execution_count": 36,
   "id": "01797ec3-b077-4d38-a2be-0101033d6cdf",
   "metadata": {},
   "outputs": [
    {
     "name": "stderr",
     "output_type": "stream",
     "text": [
      "warning: in the working copy of 'src/New_Test.ipynb', LF will be replaced by CRLF the next time Git touches it\n"
     ]
    }
   ],
   "source": [
    "!git add .  "
   ]
  },
  {
   "cell_type": "code",
   "execution_count": 38,
   "id": "6bb1fdf9-e128-4850-8194-c06e8a6e18db",
   "metadata": {},
   "outputs": [
    {
     "name": "stdout",
     "output_type": "stream",
     "text": [
      "[main 9408977] Added all files and folders to the repository\n",
      " 1 file changed, 11 insertions(+), 18 deletions(-)\n"
     ]
    }
   ],
   "source": [
    "!git commit -m \"Added all files and folders to the repository\"\n"
   ]
  },
  {
   "cell_type": "code",
   "execution_count": 40,
   "id": "4e170e8e-5562-40c5-b0ec-99bfa5dc5439",
   "metadata": {},
   "outputs": [
    {
     "name": "stderr",
     "output_type": "stream",
     "text": [
      "error: src refspec # does not match any\n",
      "error: src refspec Push does not match any\n",
      "error: src refspec to does not match any\n",
      "error: src refspec the does not match any\n",
      "error: src refspec branch does not match any\n",
      "error: src refspec of does not match any\n",
      "error: src refspec the does not match any\n",
      "error: src refspec remote does not match any\n",
      "error: src refspec repository does not match any\n",
      "error: failed to push some refs to 'https://github.com/deadpool-kha/Python-Assignment'\n"
     ]
    }
   ],
   "source": [
    "!git push origin main  # Push to the main branch of the remote repository\n"
   ]
  },
  {
   "cell_type": "code",
   "execution_count": 42,
   "id": "5c4a509f-4990-4b84-b32d-698f7bbe29e7",
   "metadata": {},
   "outputs": [
    {
     "name": "stdout",
     "output_type": "stream",
     "text": [
      "* main\n",
      "  master\n"
     ]
    }
   ],
   "source": [
    "!git branch\n"
   ]
  },
  {
   "cell_type": "code",
   "execution_count": 44,
   "id": "f3746002-6064-49ef-ad4e-60df3d51bc88",
   "metadata": {},
   "outputs": [
    {
     "name": "stdout",
     "output_type": "stream",
     "text": [
      "origin\thttps://github.com/deadpool-kha/Python-Assignment (fetch)\n",
      "origin\thttps://github.com/deadpool-kha/Python-Assignment (push)\n"
     ]
    }
   ],
   "source": [
    "!git remote -v\n"
   ]
  },
  {
   "cell_type": "code",
   "execution_count": 46,
   "id": "013ca74d-2fb1-4552-9571-49ca5cabca01",
   "metadata": {},
   "outputs": [
    {
     "name": "stdout",
     "output_type": "stream",
     "text": [
      "commit 94089777254094d8e31a0e2411b4ef97c96133fe\n",
      "Author: Angad Khanal <khanalak07@gmail.com>\n",
      "Date:   Sun Mar 30 21:54:57 2025 -0400\n",
      "\n",
      "    Added all files and folders to the repository\n",
      "\n",
      "commit 0b4e42eea9b299427c48dbea77ae88992dc1e466\n",
      "Author: Angad Khanal <khanalak07@gmail.com>\n",
      "Date:   Sun Mar 30 21:52:11 2025 -0400\n",
      "\n",
      "    Fixed secret leak\n",
      "\n",
      "commit b9f6a354539f60b37e0e9269f8b3d5f2b796d248\n",
      "Author: Angad Khanal <khanalak07@gmail.com>\n",
      "Date:   Sun Mar 30 21:49:12 2025 -0400\n",
      "\n",
      "    made new changes here with test\n",
      "\n",
      "commit 4b8c1c7ea6f917af5b8cd305b7bc862c5323cbab\n",
      "Author: Angad Khanal <khanalak07@gmail.com>\n",
      "Date:   Sun Mar 30 21:45:12 2025 -0400\n",
      "\n",
      "    made new test file which works\n",
      "\n",
      "commit f56ff5e17e02abd2fc422103560581ec67d22fa7\n",
      "Author: Angad Khanal <khanalak07@gmail.com>\n",
      "Date:   Sat Mar 29 23:33:03 2025 -0400\n",
      "\n",
      "    Added new notebook .ipynb\n",
      "\n",
      "commit 1187006e9e3b7ad7c4b6dae66e27410f46bf8277\n",
      "Author: Angad Khanal <khanalak07@gmail.com>\n",
      "Date:   Sun Mar 23 00:18:35 2025 -0400\n",
      "\n",
      "    U3\n",
      "\n",
      "commit e850b891bfa1ba65cc27dd51086ee52d95c863fb\n",
      "Author: Angad Khanal <61683329+deadpool-kha@users.noreply.github.com>\n",
      "Date:   Sun Mar 23 00:16:52 2025 -0400\n",
      "\n",
      "    u3\n",
      "\n",
      "commit d1c3353e58ea0a35df2353ee87e7782bced8b717\n",
      "Author: Angad Khanal <61683329+deadpool-kha@users.noreply.github.com>\n",
      "Date:   Sun Mar 23 00:15:52 2025 -0400\n",
      "\n",
      "    up2\n",
      "\n",
      "commit cc60e84ea5b00b7659042a2bb8e8aed97d251a43\n",
      "Author: Angad Khanal <61683329+deadpool-kha@users.noreply.github.com>\n",
      "Date:   Sun Mar 23 00:15:14 2025 -0400\n",
      "\n",
      "    up1\n",
      "\n",
      "commit f827b011af1a6e85ebf088ef4a01d5448c526fbf\n",
      "Merge: 35d914c dc7e41b\n",
      "Author: Angad Khanal <khanalak07@gmail.com>\n",
      "Date:   Sat Mar 22 22:19:35 2025 -0400\n",
      "\n",
      "    Resolved merge conflicts\n",
      "\n",
      "commit 35d914c6f7e3c229b9ffc2375b40a0d17a365be9\n",
      "Author: Angad Khanal <khanalak07@gmail.com>\n",
      "Date:   Sat Mar 22 22:16:12 2025 -0400\n",
      "\n",
      "    Add requirements.txt\n",
      "\n",
      "commit dc7e41b55ccd4e5d2a1134faa717a6d7a387f82c\n",
      "Author: Angad Khanal <61683329+deadpool-kha@users.noreply.github.com>\n",
      "Date:   Sat Mar 22 22:11:22 2025 -0400\n",
      "\n",
      "    Update README.md\n",
      "\n",
      "commit f690493c64c234d9a55d6c2c5b151e00d473ee90\n",
      "Author: Angad Khanal <khanalak07@gmail.com>\n",
      "Date:   Sat Mar 22 22:06:27 2025 -0400\n",
      "\n",
      "    Initial commit: Added src code, output screenshots, and assets\n",
      "\n",
      "commit a550dfcbf84a517e2e3047a29acbf52ac77b60ab\n",
      "Author: Angad Khanal <khanalak07@gmail.com>\n",
      "Date:   Fri Feb 28 01:16:28 2025 -0500\n",
      "\n",
      "    New code\n",
      "\n",
      "commit 713b6795e047b820d55b23fddd6db7d8903fc9c1\n",
      "Author: Angad Khanal <khanalak07@gmail.com>\n",
      "Date:   Sat Feb 15 17:49:08 2025 -0500\n",
      "\n",
      "    New code\n",
      "\n",
      "commit 5a319f977e2dc1c4d066908d82ba54ad2e0b4ab7\n",
      "Author: Angad Khanal <khanalak07@gmail.com>\n",
      "Date:   Sat Feb 15 17:21:17 2025 -0500\n",
      "\n",
      "    New code\n",
      "\n",
      "commit a9ba264e3e8235c12ad666ed55a8bc0a24216dab\n",
      "Author: Angad Khanal <khanalak07@gmail.com>\n",
      "Date:   Sun Feb 2 15:58:33 2025 -0500\n",
      "\n",
      "    Your commit message here\n",
      "\n",
      "commit e2c465dc1e1830b69eb3293cc6f47dce9b757547\n",
      "Author: Angad Khanal <61683329+deadpool-kha@users.noreply.github.com>\n",
      "Date:   Sun Feb 2 15:45:09 2025 -0500\n",
      "\n",
      "    Initial commit\n"
     ]
    }
   ],
   "source": [
    "!git log\n"
   ]
  },
  {
   "cell_type": "code",
   "execution_count": 56,
   "id": "f675f54b-3852-4f61-8e80-aba87c909de5",
   "metadata": {},
   "outputs": [
    {
     "name": "stderr",
     "output_type": "stream",
     "text": [
      "warning: in the working copy of 'src/New_Test.ipynb', LF will be replaced by CRLF the next time Git touches it\n"
     ]
    },
    {
     "name": "stdout",
     "output_type": "stream",
     "text": [
      "[main 25bf7af] Initial commit with files and folders\n",
      " 1 file changed, 189 insertions(+), 1 deletion(-)\n"
     ]
    }
   ],
   "source": [
    "!git add . \n",
    "!git commit -m \"Initial commit with files and folders\"  \n"
   ]
  },
  {
   "cell_type": "code",
   "execution_count": 58,
   "id": "72604d7c-5e2b-4a10-8b35-b24c593c8113",
   "metadata": {},
   "outputs": [
    {
     "name": "stderr",
     "output_type": "stream",
     "text": [
      "remote: error: GH013: Repository rule violations found for refs/heads/main.        \n",
      "remote: \n",
      "remote: - GITHUB PUSH PROTECTION        \n",
      "remote:   â€”â€”â€”â€”â€”â€”â€”â€”â€”â€”â€”â€”â€”â€”â€”â€”â€”â€”â€”â€”â€”â€”â€”â€”â€”â€”â€”â€”â€”â€”â€”â€”â€”â€”â€”â€”â€”â€”â€”â€”â€”        \n",
      "remote:     Resolve the following violations before pushing again        \n",
      "remote: \n",
      "remote:     - Push cannot contain secrets        \n",
      "remote: \n",
      "remote:             \n",
      "remote:      (?) Learn how to resolve a blocked push        \n",
      "remote:      https://docs.github.com/code-security/secret-scanning/working-with-secret-scanning-and-push-protection/working-with-push-protection-from-the-command-line#resolving-a-blocked-push        \n",
      "remote:             \n",
      "remote:             \n",
      "remote:       â€”â€” OpenAI API Key â€”â€”â€”â€”â€”â€”â€”â€”â€”â€”â€”â€”â€”â€”â€”â€”â€”â€”â€”â€”â€”â€”â€”â€”â€”â€”â€”â€”â€”â€”â€”â€”â€”â€”â€”â€”        \n",
      "remote:        locations:        \n",
      "remote:          - commit: 4b8c1c7ea6f917af5b8cd305b7bc862c5323cbab        \n",
      "remote:            path: src/New_Test.ipynb:536        \n",
      "remote:             \n",
      "remote:        (?) To push, remove secret from commit(s) or follow this URL to allow the secret.        \n",
      "remote:        https://github.com/deadpool-kha/Python-Assignment/security/secret-scanning/unblock-secret/2v3tKY3Ph5T1cbYwD3zSqfPa0hO        \n",
      "remote:             \n",
      "remote: \n",
      "remote: \n",
      "To https://github.com/deadpool-kha/Python-Assignment\n",
      " ! [remote rejected] main -> main (push declined due to repository rule violations)\n",
      "error: failed to push some refs to 'https://github.com/deadpool-kha/Python-Assignment'\n"
     ]
    }
   ],
   "source": [
    "!git push origin main  \n"
   ]
  },
  {
   "cell_type": "code",
   "execution_count": null,
   "id": "56b48f3d-be80-417f-a3dd-4382b56fd6e5",
   "metadata": {},
   "outputs": [],
   "source": []
  }
 ],
 "metadata": {
  "kernelspec": {
   "display_name": "Python [conda env:base] *",
   "language": "python",
   "name": "conda-base-py"
  },
  "language_info": {
   "codemirror_mode": {
    "name": "ipython",
    "version": 3
   },
   "file_extension": ".py",
   "mimetype": "text/x-python",
   "name": "python",
   "nbconvert_exporter": "python",
   "pygments_lexer": "ipython3",
   "version": "3.12.7"
  }
 },
 "nbformat": 4,
 "nbformat_minor": 5
}
