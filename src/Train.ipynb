{
 "cells": [
  {
   "cell_type": "code",
   "execution_count": null,
   "id": "a32314ea-43d8-4b5d-a0b6-d17880d7d489",
   "metadata": {},
   "outputs": [],
   "source": [
    "#This one is for test\n"
   ]
  },
  {
   "cell_type": "code",
   "execution_count": 1,
   "id": "2ee42161-b90f-4cd5-b735-5185fed7890c",
   "metadata": {},
   "outputs": [
    {
     "name": "stderr",
     "output_type": "stream",
     "text": [
      "2025-04-07 00:29:04.335 \n",
      "  \u001b[33m\u001b[1mWarning:\u001b[0m to view this Streamlit app on a browser, run it with the following\n",
      "  command:\n",
      "\n",
      "    streamlit run E:\\anaconda\\Lib\\site-packages\\ipykernel_launcher.py [ARGUMENTS]\n"
     ]
    }
   ],
   "source": [
    "import streamlit as st\n",
    "import docx\n",
    "import fitz  # PyMuPDF\n",
    "from sklearn.feature_extraction.text import TfidfVectorizer\n",
    "from sklearn.metrics.pairwise import cosine_similarity\n",
    "\n",
    "\n",
    "def read_docx(file):\n",
    "    doc = docx.Document(file)\n",
    "    return '\\n'.join([para.text for para in doc.paragraphs])\n",
    "\n",
    "\n",
    "def read_pdf(file):\n",
    "    doc = fitz.open(stream=file.read(), filetype=\"pdf\")\n",
    "    text = \"\"\n",
    "    for page in doc:\n",
    "        text += page.get_text()\n",
    "    return text\n",
    "\n",
    "\n",
    "def extract_text(uploaded_file):\n",
    "    if uploaded_file is not None:\n",
    "        if uploaded_file.name.endswith(\".pdf\"):\n",
    "            return read_pdf(uploaded_file)\n",
    "        elif uploaded_file.name.endswith(\".docx\"):\n",
    "            return read_docx(uploaded_file)\n",
    "        else:\n",
    "            st.error(\"Only PDF and DOCX files are supported.\")\n",
    "            return \"\"\n",
    "    return \"\"\n",
    "\n",
    "\n",
    "def calculate_similarity(text1, text2):\n",
    "    tfidf = TfidfVectorizer(stop_words='english')\n",
    "    vectors = tfidf.fit_transform([text1, text2])\n",
    "    sim_score = cosine_similarity(vectors[0:1], vectors[1:2])[0][0]\n",
    "    return round(sim_score * 100, 2)\n",
    "\n",
    "\n",
    "st.title(\"🧠 Resume vs Job Description Matcher\")\n",
    "\n",
    "st.markdown(\"Upload your **Resume** and the **Job Description** to see how well they match.\")\n",
    "\n",
    "resume_file = st.file_uploader(\"Upload Resume (PDF/DOCX)\", type=[\"pdf\", \"docx\"])\n",
    "jd_file = st.file_uploader(\"Upload Job Description (PDF/DOCX)\", type=[\"pdf\", \"docx\"])\n",
    "\n",
    "if resume_file and jd_file:\n",
    "    resume_text = extract_text(resume_file)\n",
    "    jd_text = extract_text(jd_file)\n",
    "\n",
    "    if resume_text and jd_text:\n",
    "        score = calculate_similarity(resume_text, jd_text)\n",
    "        st.success(f\"🔍 Similarity Score: **{score}%**\")\n",
    "\n",
    "        if score > 75:\n",
    "            st.info(\"✅ Great match! Your resume aligns well with the job description.\")\n",
    "        elif score > 50:\n",
    "            st.warning(\"⚠️ Decent match, but consider tweaking your resume.\")\n",
    "        else:\n",
    "            st.error(\"❌ Low match. Tailor your resume better for this role.\")\n"
   ]
  },
  {
   "cell_type": "code",
   "execution_count": 3,
   "id": "6e6ba631-732c-491c-82ec-9baff70f390d",
   "metadata": {},
   "outputs": [
    {
     "name": "stdout",
     "output_type": "stream",
     "text": [
      "Similarity Score: 22.04%\n",
      "❌ Low match. You should tailor your resume for this job.\n"
     ]
    }
   ],
   "source": [
    "import docx\n",
    "from sklearn.feature_extraction.text import TfidfVectorizer\n",
    "from sklearn.metrics.pairwise import cosine_similarity\n",
    "\n",
    "\n",
    "def read_docx(file_path):\n",
    "    doc = docx.Document(file_path)\n",
    "    return '\\n'.join([para.text for para in doc.paragraphs])\n",
    "\n",
    "\n",
    "def calculate_similarity(text1, text2):\n",
    "    tfidf = TfidfVectorizer(stop_words='english')\n",
    "    vectors = tfidf.fit_transform([text1, text2])\n",
    "    sim_score = cosine_similarity(vectors[0:1], vectors[1:2])[0][0]\n",
    "    return round(sim_score * 100, 2)\n",
    "\n",
    "\n",
    "# Load and read files\n",
    "resume_path = \"resume.docx\"\n",
    "jd_path = \"job_description.docx\"\n",
    "\n",
    "resume_text = read_docx(resume_path)\n",
    "jd_text = read_docx(jd_path)\n",
    "\n",
    "# Calculate similarity\n",
    "score = calculate_similarity(resume_text, jd_text)\n",
    "\n",
    "# Print result\n",
    "print(f\"Similarity Score: {score}%\")\n",
    "\n",
    "if score > 75:\n",
    "    print(\"✅ Great match! Your resume aligns well with the job description.\")\n",
    "elif score > 50:\n",
    "    print(\"⚠️ Decent match, but consider improving your resume.\")\n",
    "else:\n",
    "    print(\"❌ Low match. You should tailor your resume for this job.\")\n"
   ]
  },
  {
   "cell_type": "code",
   "execution_count": 6,
   "id": "fad3e2a9-fbd5-4ed8-a809-b26120d8494e",
   "metadata": {},
   "outputs": [
    {
     "name": "stderr",
     "output_type": "stream",
     "text": [
      "warning: in the working copy of 'src/New_Test.ipynb', LF will be replaced by CRLF the next time Git touches it\n",
      "warning: in the working copy of 'src/.ipynb_checkpoints/Train-checkpoint.ipynb', LF will be replaced by CRLF the next time Git touches it\n",
      "warning: in the working copy of 'src/Train.ipynb', LF will be replaced by CRLF the next time Git touches it\n"
     ]
    },
    {
     "name": "stdout",
     "output_type": "stream",
     "text": [
      "[main 79b9a17] training simple docx\n",
      " 3 files changed, 125 insertions(+), 29 deletions(-)\n",
      " create mode 100644 src/.ipynb_checkpoints/Train-checkpoint.ipynb\n",
      " create mode 100644 src/Train.ipynb\n"
     ]
    }
   ],
   "source": [
    "!git add .  \n",
    "!git commit -m \"training simple docx\"\n"
   ]
  },
  {
   "cell_type": "code",
   "execution_count": 11,
   "id": "29acb80a-5ff6-4043-af91-42b7de719e53",
   "metadata": {},
   "outputs": [
    {
     "name": "stderr",
     "output_type": "stream",
     "text": [
      "To https://github.com/deadpool-kha/Python-Assignment\n",
      "   8bd2e79..79b9a17  main -> main\n"
     ]
    }
   ],
   "source": [
    "!git push origin main  \n"
   ]
  },
  {
   "cell_type": "code",
   "execution_count": null,
   "id": "ae093a67-c6cf-475f-bfde-9c779652e52e",
   "metadata": {},
   "outputs": [],
   "source": []
  }
 ],
 "metadata": {
  "kernelspec": {
   "display_name": "Python [conda env:base] *",
   "language": "python",
   "name": "conda-base-py"
  },
  "language_info": {
   "codemirror_mode": {
    "name": "ipython",
    "version": 3
   },
   "file_extension": ".py",
   "mimetype": "text/x-python",
   "name": "python",
   "nbconvert_exporter": "python",
   "pygments_lexer": "ipython3",
   "version": "3.12.7"
  }
 },
 "nbformat": 4,
 "nbformat_minor": 5
}
