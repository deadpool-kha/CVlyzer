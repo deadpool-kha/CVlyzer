{
 "cells": [
  {
   "cell_type": "code",
   "execution_count": 1,
   "id": "6ae6e639-3893-45a1-b684-dc6990ac57b6",
   "metadata": {},
   "outputs": [
    {
     "name": "stdout",
     "output_type": "stream",
     "text": [
      "\n",
      "🔹 Resume Optimization Suggestions 🔹\n",
      "\n",
      "🔹 Similarity Score: 0.62\n",
      "\n",
      "✅ Keywords to Add (Missing from Resume): {'ensure', 'verbal', 'mcsa', 'clients', 'qualifications', 'assisting', 'resources', 'administer', 'consult', 'site', 'saved', 'job', 'extensive', 'date', 'duties', 'growing', 'responsibilities', 'features', 'mta', 'years', 'candidates', 'meet', 'licensure', 'mcse', 'mcitp', 'data', 'required', 'equipment', 'following', 'respond', 'degree', 'members', 'candidate', 'skilled', 'perform', 'seeking', 'skills', 'ccnp', 'vendors', 'field', 'update', 'monitor', 'responsible', 'support', 'improvements', 'phone', 'ccdp', 'set', 'high', 'cissp', 'position', 'evaluate', 'helpdesk', 'protection', 'maintenance', 'ceh', 'updating', 'role', 'excellent', 'integrate', 'equivalent', 'oversee', 'installing', 'school', 'professional', 'communication', 'mcp', 'employees', 'ccna', 'etc', 'casp', 'minimum', 'owned', 'install', 'optimization', 'gsec', 'background', 'preference', 'organization', 'join', 'gcih', 'written', 'ccda', 'visits', 'certification', 'industry', 'configure', 'assist', 'firewalls', 'provide', 'backups', 'preferred', 'coverage', 'given'}\n",
      "\n",
      "❌ Keywords to Remove (Not Relevant to Job): {'implementing', 'migrating', 'areas', 'help', 'veritas', 'devices', 'administration', 'applications', 'exec', 'vbscript', 'nmap', 'participated', 'focused', 'certificates', 'diagrams', 'foundation', 'case', 'backup', 'vista', 'rights', 'certifications', 'batch', 'project', 'plans', 'procedural', 'researching', 'vault', 'html', 'objectives', 'test', 'possessing', 'solarwinds', 'appliances', 'disaster', 'procedures', 'explain', 'services', 'states', 'languages', 'dynamic', 'scanners', 'miamibiz', 'goals', 'permissions', 'domain', 'staas', 'logs', 'conceptualization', 'lers', 'exceptional', 'mcafee', 'framework', 'ubuntu', 'machines', 'escalated', 'sync', 'tra', 'reviewing', 'understanding', 'demonstrate', 'running', 'online', 'receive', 'bash', 'vpn', 'user', 'recovery', 'designing', 'current', 'teams', 'veeamvirtual', 'o', 'detailed', 'web', 'database', 'programming', 'dcs', 'achieve', 'univeristy', 'desk', 'administrator', 'evaluating', 'iaas', 'skils', 'sql', 'command', 'fice', 'systemproblems', 'monitoring', 'independent', 'environment', 'phases', 'includes', 'manager', 'specifications', 'logical', 'cause', 'gpos', 'internet', 'resolving', 'isa', 'insta', 'existing', 'depth', 'basic', 'communicating', 'troubleshoot', 'xp', 'cacti', 'changes', 'datadomain', 'ling', 'cost', 'fic', 'scripts', 'netbackup', 'analysis', 'iscsi', 'exchange', 'livestate', 'technicians', 'superior', 'creating', 'compiling', 'deployment', 'mvc', 'operating', 'statistical', 'testing', 'systematic', 'city', 'received', 'browsers', 'versatile', 'center', 'hot', 'participating', 'acquisition', 'apple', 'bbars', 'standards', 'oriented', 'research', 'array', 'machine', 'firewa', 'configuring', 'problems', 'co', 'documentation', 'flow', 'local', 'unit', 'page', 'active', 'reporting', 'intranet', 'vbs', 'shares', 'viability', 'scheduling', 'patches', 'requests', 'business', 'acceptance', 'vdi', 'virtualization', 'managing', 'jsp', 'life', 'script', 'acceleration', 'solving', 'programs', 'accounts', 'sharepoint', 'united', 'laptops', 'objects', 'solar', 'fixes', 'quality', 'ntfs', 'complex', 'projects', 'client', 't', 'workstations', 'service', 'mobile', 'microsoft', 'highlights', 'configuration', 'windows', 'ldap', 'aug', 'policies', 'router', 'utilities', 'dns', 'manchine', 'planning', 'veeam', 'css', 'linux', 'adding', 'systemand', 'demonstrated', 'migration', 'files', 'international', 'protocol', 'recommending', 'taking', 'baas', 'virtual', 'adfs', 'plan', 'telephone', 'debugging', 'storsimple', 'vranger', 'tfs', 'print', 'protocols', 'cisco', 'asa', 'l', 'pc', 'host', 'analyses', 'application', 'release', 'vmware', 'benefit', 'studio', 'laborating', 'sta', 'enterprise', 'coursework', 'printers', 'functionality', 'twinstrata', 'detail', 'phase', 'powershe', 'determining', 'generating', 'giving', 'administering', 'end', 'cycle', 'defining', 'documents', 'anti', 'training', 'epo', 'federation', 'ios', 'gpo', 'applying', 'education', 'emc', 'desktop', 'florida', 'develop', 'symantec', 'party', 'presentations', 'guidelines', 'sms', 'ip', 'open', 'logging', 'root', 'blackberry', 'desktops', 'proxy', 'analyzing', 'azure', 'infrastructure', 'shared', 'developing', 'hyperion', 'dhcp', 'preparing', 'cloud', 'tcp', 'iis', 'storage', 'file', 'contro', 'assurance', 'liaison', 'winds', 'android', 'websites', 'concerning', 'java', 'tmg', 'product', 'sccm', 'technician', 'vsphere', 'departmental', 'visual', 'distributed', 'zenmap', 'removing', 'approach', 'fering'}\n"
     ]
    }
   ],
   "source": [
    "import docx\n",
    "import spacy\n",
    "import string\n",
    "from sklearn.feature_extraction.text import TfidfVectorizer\n",
    "from sklearn.metrics.pairwise import cosine_similarity\n",
    "\n",
    "# Load spaCy NLP model\n",
    "nlp = spacy.load(\"en_core_web_sm\")\n",
    "\n",
    "# Function to read text from a .docx file\n",
    "def read_docx(file_path):\n",
    "    doc = docx.Document(file_path)\n",
    "    text = \"\\n\".join([para.text for para in doc.paragraphs])\n",
    "    return text.strip()\n",
    "\n",
    "# Function to extract keywords using spaCy\n",
    "def extract_keywords(text):\n",
    "    doc = nlp(text)\n",
    "    keywords = [token.text.lower() for token in doc if token.is_alpha and token.text.lower() not in nlp.Defaults.stop_words]\n",
    "    return list(set(keywords))\n",
    "\n",
    "# Function to compare resume and job description\n",
    "def compare_resume_with_job(resume_text, job_text):\n",
    "    resume_keywords = extract_keywords(resume_text)\n",
    "    job_keywords = extract_keywords(job_text)\n",
    "    \n",
    "    # Find missing and extra keywords\n",
    "    missing_keywords = set(job_keywords) - set(resume_keywords)\n",
    "    extra_keywords = set(resume_keywords) - set(job_keywords)\n",
    "    \n",
    "    # TF-IDF similarity score\n",
    "    vectorizer = TfidfVectorizer()\n",
    "    vectors = vectorizer.fit_transform([resume_text, job_text])\n",
    "    similarity_score = cosine_similarity(vectors[0], vectors[1])[0][0]\n",
    "    \n",
    "    return missing_keywords, extra_keywords, similarity_score\n",
    "\n",
    "# File paths for resume and job description (Update these paths)\n",
    "resume_path = \"resume.docx\"  # Change this to your resume file path\n",
    "job_path = \"job_description.docx\"  # Change this to your job description file path\n",
    "\n",
    "# Read the text from files\n",
    "resume_text = read_docx(resume_path)\n",
    "job_text = read_docx(job_path)\n",
    "\n",
    "# Compare resume with job description\n",
    "missing_keywords, extra_keywords, similarity_score = compare_resume_with_job(resume_text, job_text)\n",
    "\n",
    "# Display results\n",
    "print(\"\\n🔹 Resume Optimization Suggestions 🔹\")\n",
    "print(f\"\\n🔹 Similarity Score: {similarity_score:.2f}\")\n",
    "print(\"\\n✅ Keywords to Add (Missing from Resume):\", missing_keywords)\n",
    "print(\"\\n❌ Keywords to Remove (Not Relevant to Job):\", extra_keywords)\n"
   ]
  },
  {
   "cell_type": "code",
   "execution_count": 3,
   "id": "3546e862-2d29-4182-87d8-257f08ee2664",
   "metadata": {},
   "outputs": [
    {
     "name": "stdout",
     "output_type": "stream",
     "text": [
      "Initialized empty Git repository in E:/Python ko new/.git/\n"
     ]
    }
   ],
   "source": [
    "!git init\n"
   ]
  },
  {
   "cell_type": "code",
   "execution_count": 5,
   "id": "3958a58d-7db7-44f2-99aa-8f60717761a1",
   "metadata": {},
   "outputs": [],
   "source": [
    "!git config --global user.name \"Angad Khanal\"\n",
    "!git config --global user.email \"khanalak07@gmail.com\"\n"
   ]
  },
  {
   "cell_type": "code",
   "execution_count": 7,
   "id": "b177d794-7556-4170-b41d-2e80076dc89f",
   "metadata": {},
   "outputs": [
    {
     "name": "stderr",
     "output_type": "stream",
     "text": [
      "warning: in the working copy of '.ipynb_checkpoints/Untitled-checkpoint.ipynb', LF will be replaced by CRLF the next time Git touches it\n",
      "warning: in the working copy of 'Untitled.ipynb', LF will be replaced by CRLF the next time Git touches it\n"
     ]
    }
   ],
   "source": [
    "!git add .\n"
   ]
  },
  {
   "cell_type": "code",
   "execution_count": 9,
   "id": "073830ec-0a48-4cbf-8c0a-1bce285a12c2",
   "metadata": {},
   "outputs": [
    {
     "name": "stdout",
     "output_type": "stream",
     "text": [
      "[master (root-commit) 04bfa6f] Your commit message\n",
      " 6 files changed, 134 insertions(+)\n",
      " create mode 100644 .ipynb_checkpoints/Untitled-checkpoint.ipynb\n",
      " create mode 100644 10089434.pdf\n",
      " create mode 100644 Untitled.ipynb\n",
      " create mode 100644 job_description.docx\n",
      " create mode 100644 resume.docx\n",
      " create mode 100644 ~$b_description.docx\n"
     ]
    }
   ],
   "source": [
    "!git commit -m \"Your commit message\"\n"
   ]
  },
  {
   "cell_type": "code",
   "execution_count": 11,
   "id": "5d0a9a89-2c62-41c6-8f96-730254be398f",
   "metadata": {},
   "outputs": [],
   "source": [
    "!git remote add origin https://github.com/deadpool-kha/Python-Assignment\n"
   ]
  },
  {
   "cell_type": "code",
   "execution_count": 15,
   "id": "dcda271d-c784-47c7-911a-a6117074ead0",
   "metadata": {},
   "outputs": [
    {
     "name": "stderr",
     "output_type": "stream",
     "text": [
      "error: src refspec main does not match any\n",
      "error: failed to push some refs to 'https://github.com/deadpool-kha/Python-Assignment'\n"
     ]
    }
   ],
   "source": [
    "!git push -u origin main\n"
   ]
  },
  {
   "cell_type": "code",
   "execution_count": 17,
   "id": "4d5b3d0d-0498-4ed9-9d85-07576803e3ba",
   "metadata": {},
   "outputs": [
    {
     "name": "stderr",
     "output_type": "stream",
     "text": [
      "error: pathspec 'main' did not match any file(s) known to git\n"
     ]
    }
   ],
   "source": [
    "!git checkout main\n"
   ]
  },
  {
   "cell_type": "code",
   "execution_count": 19,
   "id": "b1c4d14d-7568-4828-855a-498db8d6ee96",
   "metadata": {},
   "outputs": [
    {
     "name": "stderr",
     "output_type": "stream",
     "text": [
      "From https://github.com/deadpool-kha/Python-Assignment\n",
      " * [new branch]      main       -> origin/main\n",
      "error: Your local changes to the following files would be overwritten by checkout:\n",
      "\tUntitled.ipynb\n",
      "Please commit your changes or stash them before you switch branches.\n",
      "Aborting\n"
     ]
    }
   ],
   "source": [
    "!git fetch origin\n",
    "!git checkout main\n"
   ]
  },
  {
   "cell_type": "code",
   "execution_count": 21,
   "id": "732f1c97-ba43-4298-aa96-bd8b13d09e5a",
   "metadata": {},
   "outputs": [
    {
     "name": "stdout",
     "output_type": "stream",
     "text": [
      "Already up to date.\n"
     ]
    }
   ],
   "source": [
    "!git merge master\n"
   ]
  },
  {
   "cell_type": "code",
   "execution_count": 23,
   "id": "4b4f6a8a-8b7d-479c-9253-bb07a2ec9c70",
   "metadata": {},
   "outputs": [
    {
     "name": "stderr",
     "output_type": "stream",
     "text": [
      "error: src refspec main does not match any\n",
      "error: failed to push some refs to 'https://github.com/deadpool-kha/Python-Assignment'\n"
     ]
    }
   ],
   "source": [
    "!git push origin main\n"
   ]
  },
  {
   "cell_type": "code",
   "execution_count": 25,
   "id": "8333b346-68b9-450a-b57e-79a0d484eb96",
   "metadata": {},
   "outputs": [
    {
     "name": "stderr",
     "output_type": "stream",
     "text": [
      "error: cannot delete branch 'master' used by worktree at 'E:/Python ko new'\n"
     ]
    }
   ],
   "source": [
    "!git branch -d master\n"
   ]
  },
  {
   "cell_type": "code",
   "execution_count": 27,
   "id": "e056cf66-adfd-4987-b4d1-57599fc47a61",
   "metadata": {},
   "outputs": [
    {
     "name": "stderr",
     "output_type": "stream",
     "text": [
      "error: Your local changes to the following files would be overwritten by checkout:\n",
      "\tUntitled.ipynb\n",
      "Please commit your changes or stash them before you switch branches.\n",
      "Aborting\n"
     ]
    }
   ],
   "source": [
    "!git checkout main\n"
   ]
  },
  {
   "cell_type": "code",
   "execution_count": 29,
   "id": "d03d973c-01eb-4e36-887d-108d1fe2bbe0",
   "metadata": {},
   "outputs": [
    {
     "name": "stderr",
     "output_type": "stream",
     "text": [
      "error: Your local changes to the following files would be overwritten by checkout:\n",
      "\tUntitled.ipynb\n",
      "Please commit your changes or stash them before you switch branches.\n",
      "Aborting\n"
     ]
    }
   ],
   "source": [
    "!git fetch origin\n",
    "!git checkout main\n"
   ]
  },
  {
   "cell_type": "code",
   "execution_count": 31,
   "id": "59f23923-4511-4994-a174-b5c2897a3d32",
   "metadata": {},
   "outputs": [
    {
     "name": "stderr",
     "output_type": "stream",
     "text": [
      "warning: in the working copy of 'Untitled.ipynb', LF will be replaced by CRLF the next time Git touches it\n"
     ]
    }
   ],
   "source": [
    "!git add Untitled.ipynb\n"
   ]
  },
  {
   "cell_type": "code",
   "execution_count": 33,
   "id": "11c00dd3-5885-4415-890a-35de321e8334",
   "metadata": {},
   "outputs": [
    {
     "name": "stdout",
     "output_type": "stream",
     "text": [
      "[master 42db2f9] Save work on Untitled.ipynb before switching branches\n",
      " 1 file changed, 164 insertions(+), 1 deletion(-)\n"
     ]
    }
   ],
   "source": [
    "!git commit -m \"Save work on Untitled.ipynb before switching branches\"\n"
   ]
  },
  {
   "cell_type": "code",
   "execution_count": 35,
   "id": "b5a89f50-971c-4a90-a5ee-49d8f1ea361d",
   "metadata": {},
   "outputs": [
    {
     "name": "stdout",
     "output_type": "stream",
     "text": [
      "branch 'main' set up to track 'origin/main'.\n"
     ]
    },
    {
     "name": "stderr",
     "output_type": "stream",
     "text": [
      "warning: unable to unlink 'job_description.docx': Invalid argument\n",
      "Switched to a new branch 'main'\n"
     ]
    }
   ],
   "source": [
    "!git checkout main\n"
   ]
  },
  {
   "cell_type": "code",
   "execution_count": 37,
   "id": "21254905-a21d-404c-8120-9a1c78e455e7",
   "metadata": {},
   "outputs": [
    {
     "name": "stdout",
     "output_type": "stream",
     "text": [
      "No local changes to save\n"
     ]
    }
   ],
   "source": [
    "!git stash\n"
   ]
  },
  {
   "cell_type": "code",
   "execution_count": 39,
   "id": "7a3fd395-ac09-4755-b13f-10da9802e9b5",
   "metadata": {},
   "outputs": [
    {
     "name": "stdout",
     "output_type": "stream",
     "text": [
      "Your branch is up to date with 'origin/main'.\n"
     ]
    },
    {
     "name": "stderr",
     "output_type": "stream",
     "text": [
      "Already on 'main'\n"
     ]
    }
   ],
   "source": [
    "!git checkout main\n"
   ]
  },
  {
   "cell_type": "code",
   "execution_count": 41,
   "id": "8012b7a7-7c2f-49c9-83fa-088064f8354c",
   "metadata": {},
   "outputs": [
    {
     "name": "stderr",
     "output_type": "stream",
     "text": [
      "No stash entries found.\n"
     ]
    }
   ],
   "source": [
    "!git stash apply\n"
   ]
  },
  {
   "cell_type": "code",
   "execution_count": null,
   "id": "13437b24-5d77-49d5-b16c-613f69ae3fee",
   "metadata": {},
   "outputs": [],
   "source": []
  }
 ],
 "metadata": {
  "kernelspec": {
   "display_name": "Python [conda env:base] *",
   "language": "python",
   "name": "conda-base-py"
  },
  "language_info": {
   "codemirror_mode": {
    "name": "ipython",
    "version": 3
   },
   "file_extension": ".py",
   "mimetype": "text/x-python",
   "name": "python",
   "nbconvert_exporter": "python",
   "pygments_lexer": "ipython3",
   "version": "3.12.7"
  }
 },
 "nbformat": 4,
 "nbformat_minor": 5
}
