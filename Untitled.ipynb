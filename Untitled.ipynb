{
 "cells": [
  {
   "cell_type": "code",
   "execution_count": 27,
   "id": "6ae6e639-3893-45a1-b684-dc6990ac57b6",
   "metadata": {},
   "outputs": [
    {
     "name": "stdout",
     "output_type": "stream",
     "text": [
      "\n",
      "🔹 Resume Optimization Suggestions 🔹\n",
      "\n",
      "🔹 Similarity Score: 0.62\n",
      "\n",
      "✅ Keywords to Add (Missing from Resume): {'background', 'vendors', 'coverage', 'install', 'join', 'ccdp', 'duties', 'required', 'organization', 'ceh', 'seeking', 'improvements', 'written', 'licensure', 'responsibilities', 'responsible', 'phone', 'gcih', 'owned', 'cissp', 'perform', 'gsec', 'meet', 'candidates', 'administer', 'school', 'ccna', 'degree', 'position', 'installing', 'following', 'integrate', 'high', 'mcsa', 'industry', 'mcse', 'mcp', 'skills', 'mta', 'assisting', 'etc', 'updating', 'ccnp', 'qualifications', 'equivalent', 'date', 'support', 'extensive', 'assist', 'consult', 'protection', 'optimization', 'minimum', 'evaluate', 'ensure', 'resources', 'firewalls', 'maintenance', 'candidate', 'saved', 'professional', 'role', 'growing', 'communication', 'skilled', 'data', 'monitor', 'given', 'set', 'employees', 'provide', 'mcitp', 'verbal', 'ccda', 'preferred', 'casp', 'clients', 'backups', 'preference', 'configure', 'years', 'helpdesk', 'excellent', 'members', 'visits', 'features', 'field', 'job', 'site', 'equipment', 'respond', 'oversee', 'update', 'certification'}\n",
      "\n",
      "❌ Keywords to Remove (Not Relevant to Job): {'protocols', 'areas', 'tfs', 'twinstrata', 'scanners', 'business', 'unit', 'ubuntu', 'vsphere', 'blackberry', 'oriented', 'batch', 'winds', 'netbackup', 'bash', 'product', 'adfs', 'functionality', 'azure', 'training', 'recovery', 'foundation', 'epo', 'univeristy', 'versatile', 'assurance', 'sccm', 'exceptional', 'cloud', 'iis', 'reviewing', 'vault', 'coursework', 'release', 'current', 'languages', 'acceleration', 'analyzing', 'html', 'approach', 'veritas', 'giving', 'education', 'statistical', 'scripts', 'depth', 'emc', 'storage', 'systematic', 'complex', 'proxy', 'adding', 'highlights', 'phases', 'resolving', 'vpn', 'systemproblems', 'protocol', 'virtual', 'machines', 'exec', 'managing', 'test', 'administrator', 'includes', 'escalated', 'vista', 'machine', 'received', 'intranet', 'sync', 'print', 'conceptualization', 'ntfs', 'phase', 'vdi', 'party', 'vbscript', 'goals', 'sms', 'analysis', 'city', 'monitoring', 'explain', 'existing', 'independent', 'operating', 'detail', 'miamibiz', 'shares', 'android', 'bbars', 'browsers', 'focused', 'files', 'asa', 'workstations', 'documents', 'accounts', 'tmg', 'tra', 'procedures', 'technician', 'staas', 'symantec', 'specifications', 'debugging', 'fic', 'websites', 'tcp', 'possessing', 'plans', 'laptops', 'changes', 'powershe', 'lers', 'participated', 'css', 'root', 'ling', 'vranger', 'documentation', 'manager', 'livestate', 'reporting', 'local', 'flow', 'programs', 'presentations', 'acquisition', 'diagrams', 'programming', 'creating', 'xp', 'nmap', 'testing', 'ios', 'veeam', 'cause', 'enterprise', 'file', 'open', 'compiling', 'federation', 'aug', 'desk', 'superior', 'implementing', 'vmware', 'removing', 'procedural', 'defining', 'command', 'understanding', 'page', 'help', 'solar', 'distributed', 'storsimple', 'apple', 'administering', 'iscsi', 'mcafee', 'environment', 'benefit', 'solving', 'zenmap', 'fixes', 'develop', 'sharepoint', 'mobile', 'shared', 'guidelines', 'online', 'permissions', 'basic', 'plan', 'united', 'technicians', 'achieve', 'life', 'fering', 'ip', 'linux', 'logging', 'departmental', 'systemand', 'mvc', 'evaluating', 'projects', 'participating', 'firewa', 'teams', 'florida', 'research', 'visual', 'gpo', 'communicating', 'web', 'hot', 'applying', 'devices', 'insta', 'services', 'logs', 'dns', 'veeamvirtual', 'objects', 'studio', 'cycle', 'cost', 'active', 'recommending', 'deployment', 'backup', 'administration', 'demonstrated', 'liaison', 'sql', 'certificates', 'dynamic', 'determining', 't', 'windows', 'exchange', 'applications', 'sta', 'standards', 'configuration', 'viability', 'troubleshoot', 'preparing', 'desktop', 'appliances', 'jsp', 'running', 'certifications', 'objectives', 'problems', 'java', 'case', 'analyses', 'patches', 'concerning', 'utilities', 'quality', 'application', 'client', 'dhcp', 'co', 'developing', 'array', 'researching', 'disaster', 'l', 'o', 'migration', 'migrating', 'solarwinds', 'acceptance', 'iaas', 'states', 'hyperion', 'contro', 'isa', 'manchine', 'international', 'database', 'generating', 'fice', 'baas', 'taking', 'designing', 'service', 'planning', 'dcs', 'center', 'laborating', 'anti', 'rights', 'scheduling', 'pc', 'gpos', 'skils', 'user', 'configuring', 'ldap', 'requests', 'virtualization', 'infrastructure', 'logical', 'datadomain', 'telephone', 'domain', 'receive', 'internet', 'policies', 'detailed', 'cisco', 'cacti', 'project', 'printers', 'host', 'desktops', 'router', 'end', 'vbs', 'framework', 'microsoft', 'demonstrate', 'script'}\n"
     ]
    }
   ],
   "source": [
    "import docx\n",
    "import spacy\n",
    "import string\n",
    "from sklearn.feature_extraction.text import TfidfVectorizer\n",
    "from sklearn.metrics.pairwise import cosine_similarity\n",
    "\n",
    "# Load spaCy NLP model\n",
    "nlp = spacy.load(\"en_core_web_sm\")\n",
    "\n",
    "# Function to read text from a .docx file\n",
    "def read_docx(file_path):\n",
    "    doc = docx.Document(file_path)\n",
    "    text = \"\\n\".join([para.text for para in doc.paragraphs])\n",
    "    return text.strip()\n",
    "\n",
    "# Function to extract keywords using spaCy\n",
    "def extract_keywords(text):\n",
    "    doc = nlp(text)\n",
    "    keywords = [token.text.lower() for token in doc if token.is_alpha and token.text.lower() not in nlp.Defaults.stop_words]\n",
    "    return list(set(keywords))\n",
    "\n",
    "# Function to compare resume and job description\n",
    "def compare_resume_with_job(resume_text, job_text):\n",
    "    resume_keywords = extract_keywords(resume_text)\n",
    "    job_keywords = extract_keywords(job_text)\n",
    "    \n",
    "    # Find missing and extra keywords\n",
    "    missing_keywords = set(job_keywords) - set(resume_keywords)\n",
    "    extra_keywords = set(resume_keywords) - set(job_keywords)\n",
    "    \n",
    "    # TF-IDF similarity score\n",
    "    vectorizer = TfidfVectorizer()\n",
    "    vectors = vectorizer.fit_transform([resume_text, job_text])\n",
    "    similarity_score = cosine_similarity(vectors[0], vectors[1])[0][0]\n",
    "    \n",
    "    return missing_keywords, extra_keywords, similarity_score\n",
    "\n",
    "# File paths for resume and job description (Update these paths)\n",
    "resume_path = \"resume.docx\"  # Change this to your resume file path\n",
    "job_path = \"job_description.docx\"  # Change this to your job description file path\n",
    "\n",
    "# Read the text from files\n",
    "resume_text = read_docx(resume_path)\n",
    "job_text = read_docx(job_path)\n",
    "\n",
    "# Compare resume with job description\n",
    "missing_keywords, extra_keywords, similarity_score = compare_resume_with_job(resume_text, job_text)\n",
    "\n",
    "# Display results\n",
    "print(\"\\n🔹 Resume Optimization Suggestions 🔹\")\n",
    "print(f\"\\n🔹 Similarity Score: {similarity_score:.2f}\")\n",
    "print(\"\\n✅ Keywords to Add (Missing from Resume):\", missing_keywords)\n",
    "print(\"\\n❌ Keywords to Remove (Not Relevant to Job):\", extra_keywords)\n"
   ]
  },
  {
   "cell_type": "code",
   "execution_count": 3,
   "id": "3546e862-2d29-4182-87d8-257f08ee2664",
   "metadata": {},
   "outputs": [
    {
     "name": "stdout",
     "output_type": "stream",
     "text": [
      "Initialized empty Git repository in E:/Python ko new/.git/\n"
     ]
    }
   ],
   "source": [
    "!git init\n"
   ]
  },
  {
   "cell_type": "code",
   "execution_count": 5,
   "id": "3958a58d-7db7-44f2-99aa-8f60717761a1",
   "metadata": {},
   "outputs": [],
   "source": [
    "!git config --global user.name \"Angad Khanal\"\n",
    "!git config --global user.email \"khanalak07@gmail.com\"\n"
   ]
  },
  {
   "cell_type": "code",
   "execution_count": 5,
   "id": "b177d794-7556-4170-b41d-2e80076dc89f",
   "metadata": {},
   "outputs": [
    {
     "name": "stderr",
     "output_type": "stream",
     "text": [
      "warning: in the working copy of 'Untitled.ipynb', LF will be replaced by CRLF the next time Git touches it\n"
     ]
    }
   ],
   "source": [
    "!git add .\n"
   ]
  },
  {
   "cell_type": "code",
   "execution_count": 7,
   "id": "df7ef8b7-6536-4747-8992-c35176bfebc6",
   "metadata": {},
   "outputs": [
    {
     "name": "stdout",
     "output_type": "stream",
     "text": [
      "[main 5a319f9] New code\n",
      " 2 files changed, 29 insertions(+), 278 deletions(-)\n",
      " create mode 100644 resume.docx\n"
     ]
    }
   ],
   "source": [
    "!git commit -m \"New code \"\n"
   ]
  },
  {
   "cell_type": "code",
   "execution_count": 9,
   "id": "152bcad6-6195-41e5-876a-ebe0effffbce",
   "metadata": {},
   "outputs": [
    {
     "name": "stderr",
     "output_type": "stream",
     "text": [
      "To https://github.com/deadpool-kha/Python-Assignment\n",
      "   a9ba264..5a319f9  main -> main\n"
     ]
    }
   ],
   "source": [
    "!git push origin main\n"
   ]
  },
  {
   "cell_type": "code",
   "execution_count": 11,
   "id": "9edace47-9f0d-4c99-ab32-cecd5eb2ab4b",
   "metadata": {},
   "outputs": [
    {
     "name": "stdout",
     "output_type": "stream",
     "text": [
      "On branch main\n",
      "Your branch is up to date with 'origin/main'.\n",
      "\n",
      "nothing to commit, working tree clean\n"
     ]
    }
   ],
   "source": [
    "!git status\n"
   ]
  },
  {
   "cell_type": "code",
   "execution_count": null,
   "id": "53a4d04a-b24a-4821-bd93-4a7128424cfc",
   "metadata": {},
   "outputs": [],
   "source": [
    "!git add file1.docx\n"
   ]
  },
  {
   "cell_type": "code",
   "execution_count": 13,
   "id": "8f0193bf-b880-4c26-a3f8-b79543cf8bcf",
   "metadata": {},
   "outputs": [
    {
     "ename": "SyntaxError",
     "evalue": "invalid syntax (339777499.py, line 1)",
     "output_type": "error",
     "traceback": [
      "\u001b[1;36m  Cell \u001b[1;32mIn[13], line 1\u001b[1;36m\u001b[0m\n\u001b[1;33m    git status\u001b[0m\n\u001b[1;37m        ^\u001b[0m\n\u001b[1;31mSyntaxError\u001b[0m\u001b[1;31m:\u001b[0m invalid syntax\n"
     ]
    }
   ],
   "source": [
    "git status\n"
   ]
  },
  {
   "cell_type": "code",
   "execution_count": null,
   "id": "341f52a7-29d6-4784-8b10-ccc6faa05e17",
   "metadata": {},
   "outputs": [],
   "source": []
  }
 ],
 "metadata": {
  "kernelspec": {
   "display_name": "Python [conda env:base] *",
   "language": "python",
   "name": "conda-base-py"
  },
  "language_info": {
   "codemirror_mode": {
    "name": "ipython",
    "version": 3
   },
   "file_extension": ".py",
   "mimetype": "text/x-python",
   "name": "python",
   "nbconvert_exporter": "python",
   "pygments_lexer": "ipython3",
   "version": "3.12.7"
  }
 },
 "nbformat": 4,
 "nbformat_minor": 5
}
